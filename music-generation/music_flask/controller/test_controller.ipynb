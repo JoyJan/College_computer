{
 "cells": [
  {
   "cell_type": "code",
   "execution_count": 1,
   "id": "922a289d",
   "metadata": {},
   "outputs": [],
   "source": [
    "import json\n",
    "import datetime\n",
    "from flask import Blueprint,url_for,request,render_template,session,redirect\n",
    "\n",
    "# 创建了一个蓝图对象\n",
    "testModule = Blueprint('testModule',__name__)\n",
    "\n",
    "\"\"\"\n",
    "    GET请求，不带参数\n",
    "\"\"\"\n",
    "@testModule.route(\"/get_test1\",methods=[\"GET\"])\n",
    "def get_test1():\n",
    "    # 默认返回内容\n",
    "    return_dict = {'return_code': '200', 'return_info': '处理成功', 'result': None}\n",
    "    return json.dumps(return_dict, ensure_ascii=False)\n",
    "\n",
    "\"\"\"\n",
    "    POST请求，带参数\n",
    "\"\"\"\n",
    "@testModule.route(\"/post_test1\", methods=[\"POST\"])\n",
    "def post_test1():\n",
    "    #默认返回内容\n",
    "    return_dict = {'return_code':'200','return_info':'处理成功','result':None}\n",
    "\n",
    "    # 判断传入的json数据是否为空\n",
    "    if len(request.get_data()) == 0:\n",
    "        return_dict['return_code'] = '5004'\n",
    "        return_dict['return_info'] = '请求参数为空'\n",
    "        return json.dumps(return_dict, ensure_ascii=False)\n",
    "    name = request.values.get('name')\n",
    "    age = request.values.get('age')\n",
    "    # 对参数进行操作\n",
    "    return_dict['result'] = \"%s今年%s岁:%s\" %(name,age,datetime.datetime.now())\n",
    "    print(return_dict)\n",
    "    return json.dumps(return_dict,ensure_ascii=False)"
   ]
  },
  {
   "cell_type": "code",
   "execution_count": null,
   "id": "bd055e6a",
   "metadata": {},
   "outputs": [],
   "source": []
  }
 ],
 "metadata": {
  "kernelspec": {
   "display_name": "Python 3 (ipykernel)",
   "language": "python",
   "name": "python3"
  },
  "language_info": {
   "codemirror_mode": {
    "name": "ipython",
    "version": 3
   },
   "file_extension": ".py",
   "mimetype": "text/x-python",
   "name": "python",
   "nbconvert_exporter": "python",
   "pygments_lexer": "ipython3",
   "version": "3.11.5"
  }
 },
 "nbformat": 4,
 "nbformat_minor": 5
}
